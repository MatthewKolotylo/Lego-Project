{
 "cells": [
  {
   "cell_type": "code",
   "execution_count": null,
   "metadata": {},
   "outputs": [],
   "source": []
  },
  {
   "cell_type": "code",
   "execution_count": 19,
   "metadata": {},
   "outputs": [
    {
     "name": "stdout",
     "output_type": "stream",
     "text": [
      "Unzipped and saved as: themes.csv\n"
     ]
    }
   ],
   "source": [
    "#single file converter\n",
    "import gzip\n",
    "import csv\n",
    "import os\n",
    "\n",
    "def unzip_csv_gz(input_path):\n",
    "    # Extract the filename without the extension\n",
    "    base_filename, _ = os.path.splitext(input_path)\n",
    "\n",
    "    # Output path for the unzipped CSV file\n",
    "    output_path = f\"{base_filename}\"\n",
    "\n",
    "    with gzip.open(input_path, 'rt') as gz_file, open(output_path, 'w', newline='') as csv_file:\n",
    "        # Create a CSV reader and writer\n",
    "        csv_reader = csv.reader(gz_file)\n",
    "        csv_writer = csv.writer(csv_file)\n",
    "\n",
    "        # Copy data from the compressed file to the CSV file\n",
    "        for row in csv_reader:\n",
    "            csv_writer.writerow(row)\n",
    "\n",
    "    print(f\"Unzipped and saved as: {output_path}\")\n",
    "\n",
    "# Example usage\n",
    "input_file_path = 'themes.csv.gz'\n",
    "unzip_csv_gz(input_file_path)\n"
   ]
  },
  {
   "cell_type": "code",
   "execution_count": 8,
   "metadata": {},
   "outputs": [
    {
     "ename": "FileNotFoundError",
     "evalue": "[WinError 3] The system cannot find the path specified: 'Re-brick-able\\\\'",
     "output_type": "error",
     "traceback": [
      "\u001b[1;31m---------------------------------------------------------------------------\u001b[0m",
      "\u001b[1;31mFileNotFoundError\u001b[0m                         Traceback (most recent call last)",
      "Cell \u001b[1;32mIn[8], line 35\u001b[0m\n\u001b[0;32m     33\u001b[0m \u001b[38;5;66;03m# Example usage for a folder\u001b[39;00m\n\u001b[0;32m     34\u001b[0m input_folder_path \u001b[38;5;241m=\u001b[39m \u001b[38;5;124m'\u001b[39m\u001b[38;5;124mRe-brick-able\u001b[39m\u001b[38;5;124m'\u001b[39m\n\u001b[1;32m---> 35\u001b[0m \u001b[43munzip_csv_gz_folder\u001b[49m\u001b[43m(\u001b[49m\u001b[43minput_folder_path\u001b[49m\u001b[43m)\u001b[49m\n",
      "Cell \u001b[1;32mIn[8], line 10\u001b[0m, in \u001b[0;36munzip_csv_gz_folder\u001b[1;34m(input_folder)\u001b[0m\n\u001b[0;32m      7\u001b[0m input_folder \u001b[38;5;241m=\u001b[39m os\u001b[38;5;241m.\u001b[39mpath\u001b[38;5;241m.\u001b[39mnormpath(input_folder) \u001b[38;5;241m+\u001b[39m os\u001b[38;5;241m.\u001b[39mpath\u001b[38;5;241m.\u001b[39msep\n\u001b[0;32m      9\u001b[0m \u001b[38;5;66;03m# Iterate over files in the folder\u001b[39;00m\n\u001b[1;32m---> 10\u001b[0m \u001b[38;5;28;01mfor\u001b[39;00m filename \u001b[38;5;129;01min\u001b[39;00m \u001b[43mos\u001b[49m\u001b[38;5;241;43m.\u001b[39;49m\u001b[43mlistdir\u001b[49m\u001b[43m(\u001b[49m\u001b[43minput_folder\u001b[49m\u001b[43m)\u001b[49m:\n\u001b[0;32m     11\u001b[0m     \u001b[38;5;28;01mif\u001b[39;00m filename\u001b[38;5;241m.\u001b[39mendswith(\u001b[38;5;124m'\u001b[39m\u001b[38;5;124m.gz\u001b[39m\u001b[38;5;124m'\u001b[39m):\n\u001b[0;32m     12\u001b[0m         input_path \u001b[38;5;241m=\u001b[39m os\u001b[38;5;241m.\u001b[39mpath\u001b[38;5;241m.\u001b[39mjoin(input_folder, filename)\n",
      "\u001b[1;31mFileNotFoundError\u001b[0m: [WinError 3] The system cannot find the path specified: 'Re-brick-able\\\\'"
     ]
    }
   ],
   "source": [
    "#folder converter\n",
    "import os\n",
    "import gzip\n",
    "import csv\n",
    "\n",
    "def unzip_csv_gz_folder(input_folder):\n",
    "    # Ensure the folder path ends with a separator\n",
    "    input_folder = os.path.normpath(input_folder) + os.path.sep\n",
    "\n",
    "    # Iterate over files in the folder\n",
    "    for filename in os.listdir(input_folder):\n",
    "        if filename.endswith('.gz'):\n",
    "            input_path = os.path.join(input_folder, filename)\n",
    "            unzip_csv_gz(input_path)\n",
    "\n",
    "def unzip_csv_gz(input_path):\n",
    "    # Extract the filename without the extension\n",
    "    base_filename, _ = os.path.splitext(input_path)\n",
    "\n",
    "    # Output path for the unzipped CSV file\n",
    "    output_path = f\"{base_filename}\"\n",
    "\n",
    "    with gzip.open(input_path, 'rt') as gz_file, open(output_path, 'w', newline='') as csv_file:\n",
    "        # Create a CSV reader and writer\n",
    "        csv_reader = csv.reader(gz_file)\n",
    "        csv_writer = csv.writer(csv_file)\n",
    "\n",
    "        # Copy data from the compressed file to the CSV file\n",
    "        for row in csv_reader:\n",
    "            csv_writer.writerow(row)\n",
    "\n",
    "    print(f\"Unzipped and saved as: {output_path}\")\n",
    "\n",
    "# Example usage for a folder\n",
    "input_folder_path = 'Re-brick-able'\n",
    "unzip_csv_gz_folder(input_folder_path)\n"
   ]
  },
  {
   "cell_type": "code",
   "execution_count": 20,
   "metadata": {},
   "outputs": [
    {
     "name": "stdout",
     "output_type": "stream",
     "text": [
      "Deleted: c:\\Users\\nfs25\\OneDrive\\Documents\\GitHub\\Lego-Project\\Re-brick-able\\colors.csv.gz\n",
      "Deleted: c:\\Users\\nfs25\\OneDrive\\Documents\\GitHub\\Lego-Project\\Re-brick-able\\elements.csv.gz\n",
      "Deleted: c:\\Users\\nfs25\\OneDrive\\Documents\\GitHub\\Lego-Project\\Re-brick-able\\inventories.csv.gz\n",
      "Deleted: c:\\Users\\nfs25\\OneDrive\\Documents\\GitHub\\Lego-Project\\Re-brick-able\\inventory_minifigs.csv.gz\n",
      "Deleted: c:\\Users\\nfs25\\OneDrive\\Documents\\GitHub\\Lego-Project\\Re-brick-able\\inventory_parts.csv.gz\n",
      "Deleted: c:\\Users\\nfs25\\OneDrive\\Documents\\GitHub\\Lego-Project\\Re-brick-able\\inventory_sets.csv.gz\n",
      "Deleted: c:\\Users\\nfs25\\OneDrive\\Documents\\GitHub\\Lego-Project\\Re-brick-able\\minifigs.csv.gz\n",
      "Deleted: c:\\Users\\nfs25\\OneDrive\\Documents\\GitHub\\Lego-Project\\Re-brick-able\\parts.csv.gz\n",
      "Deleted: c:\\Users\\nfs25\\OneDrive\\Documents\\GitHub\\Lego-Project\\Re-brick-able\\part_categories.csv.gz\n",
      "Deleted: c:\\Users\\nfs25\\OneDrive\\Documents\\GitHub\\Lego-Project\\Re-brick-able\\part_relationships.csv.gz\n",
      "Deleted: c:\\Users\\nfs25\\OneDrive\\Documents\\GitHub\\Lego-Project\\Re-brick-able\\sets.csv.gz\n",
      "Deleted: c:\\Users\\nfs25\\OneDrive\\Documents\\GitHub\\Lego-Project\\Re-brick-able\\themes.csv.gz\n"
     ]
    }
   ],
   "source": [
    "#Cleaner\n",
    "import os\n",
    "\n",
    "def delete_gz_files_in_folder(folder_path):\n",
    "    # Ensure the folder path ends with a separator\n",
    "    folder_path = os.path.normpath(folder_path) + os.path.sep\n",
    "\n",
    "    # Iterate over files in the folder\n",
    "    for filename in os.listdir(folder_path):\n",
    "        if filename.endswith('.gz'):\n",
    "            file_path = os.path.join(folder_path, filename)\n",
    "            try:\n",
    "                os.remove(file_path)\n",
    "                print(f\"Deleted: {file_path}\")\n",
    "            except OSError as e:\n",
    "                print(f\"Error deleting {file_path}: {e}\")\n",
    "\n",
    "# Example usage for a folder\n",
    "folder_path_to_delete = os.getcwd()\n",
    "delete_gz_files_in_folder(folder_path_to_delete)\n"
   ]
  },
  {
   "cell_type": "code",
   "execution_count": 7,
   "metadata": {},
   "outputs": [
    {
     "name": "stdout",
     "output_type": "stream",
     "text": [
      "The folder path 'Re-brick-able' does not exist.\n"
     ]
    }
   ],
   "source": [
    "import os\n",
    "import gzip\n",
    "import csv\n",
    "\n",
    "def convert_gz_to_csv(folder_path):\n",
    "    # Check if the folder path exists\n",
    "    if not os.path.exists(folder_path):\n",
    "        print(f\"The folder path '{folder_path}' does not exist.\")\n",
    "        return\n",
    "\n",
    "    # Loop through all files in the folder\n",
    "    for filename in os.listdir(folder_path):\n",
    "        file_path = os.path.join(folder_path, filename)\n",
    "\n",
    "        # Check if the file is a .csv.gz file\n",
    "        if filename.endswith('.csv.gz'):\n",
    "            # Generate the output .csv file name\n",
    "            output_filename = os.path.splitext(filename)[0] + '.csv'\n",
    "            output_file_path = os.path.join(folder_path, output_filename)\n",
    "\n",
    "            # Open the gzip file and write the contents to a new .csv file\n",
    "            with gzip.open(file_path, 'rt') as gz_file, open(output_file_path, 'w', newline='') as csv_file:\n",
    "                csv_writer = csv.writer(csv_file)\n",
    "\n",
    "                # Read the lines from the gzip file and write to the csv file\n",
    "                for line in gz_file:\n",
    "                    csv_writer.writerow(line.strip().split(','))\n",
    "\n",
    "            print(f\"Conversion complete: {filename} -> {output_filename}\")\n",
    "\n",
    "# Example usage:\n",
    "folder_path = 'Re-brick-able'\n",
    "convert_gz_to_csv(folder_path)\n"
   ]
  },
  {
   "cell_type": "code",
   "execution_count": 11,
   "metadata": {},
   "outputs": [
    {
     "name": "stdout",
     "output_type": "stream",
     "text": [
      "Unzipped and saved as: c:\\Users\\nfs25\\OneDrive\\Documents\\GitHub\\Lego-Project\\Re-brick-able\\colors.csv\n",
      "Unzipped and saved as: c:\\Users\\nfs25\\OneDrive\\Documents\\GitHub\\Lego-Project\\Re-brick-able\\elements.csv\n",
      "Unzipped and saved as: c:\\Users\\nfs25\\OneDrive\\Documents\\GitHub\\Lego-Project\\Re-brick-able\\inventories.csv\n",
      "Unzipped and saved as: c:\\Users\\nfs25\\OneDrive\\Documents\\GitHub\\Lego-Project\\Re-brick-able\\inventory_minifigs.csv\n",
      "Unzipped and saved as: c:\\Users\\nfs25\\OneDrive\\Documents\\GitHub\\Lego-Project\\Re-brick-able\\inventory_parts.csv\n",
      "Unzipped and saved as: c:\\Users\\nfs25\\OneDrive\\Documents\\GitHub\\Lego-Project\\Re-brick-able\\inventory_sets.csv\n",
      "Unzipped and saved as: c:\\Users\\nfs25\\OneDrive\\Documents\\GitHub\\Lego-Project\\Re-brick-able\\minifigs.csv\n"
     ]
    },
    {
     "ename": "UnicodeDecodeError",
     "evalue": "'charmap' codec can't decode byte 0x8f in position 1256: character maps to <undefined>",
     "output_type": "error",
     "traceback": [
      "\u001b[1;31m---------------------------------------------------------------------------\u001b[0m",
      "\u001b[1;31mUnicodeDecodeError\u001b[0m                        Traceback (most recent call last)",
      "Cell \u001b[1;32mIn[11], line 40\u001b[0m\n\u001b[0;32m     38\u001b[0m \u001b[38;5;66;03m# Example usage for a folder\u001b[39;00m\n\u001b[0;32m     39\u001b[0m input_folder_path \u001b[38;5;241m=\u001b[39m os\u001b[38;5;241m.\u001b[39mgetcwd()\n\u001b[1;32m---> 40\u001b[0m \u001b[43munzip_csv_gz_folder\u001b[49m\u001b[43m(\u001b[49m\u001b[43minput_folder_path\u001b[49m\u001b[43m)\u001b[49m\n",
      "Cell \u001b[1;32mIn[11], line 18\u001b[0m, in \u001b[0;36munzip_csv_gz_folder\u001b[1;34m(input_folder)\u001b[0m\n\u001b[0;32m     16\u001b[0m \u001b[38;5;28;01mif\u001b[39;00m filename\u001b[38;5;241m.\u001b[39mendswith(\u001b[38;5;124m'\u001b[39m\u001b[38;5;124m.gz\u001b[39m\u001b[38;5;124m'\u001b[39m):\n\u001b[0;32m     17\u001b[0m     input_path \u001b[38;5;241m=\u001b[39m os\u001b[38;5;241m.\u001b[39mpath\u001b[38;5;241m.\u001b[39mjoin(input_folder, filename)\n\u001b[1;32m---> 18\u001b[0m     \u001b[43munzip_csv_gz\u001b[49m\u001b[43m(\u001b[49m\u001b[43minput_path\u001b[49m\u001b[43m)\u001b[49m\n",
      "Cell \u001b[1;32mIn[11], line 33\u001b[0m, in \u001b[0;36munzip_csv_gz\u001b[1;34m(input_path)\u001b[0m\n\u001b[0;32m     30\u001b[0m     csv_writer \u001b[38;5;241m=\u001b[39m csv\u001b[38;5;241m.\u001b[39mwriter(csv_file)\n\u001b[0;32m     32\u001b[0m     \u001b[38;5;66;03m# Copy data from the compressed file to the CSV file\u001b[39;00m\n\u001b[1;32m---> 33\u001b[0m \u001b[43m    \u001b[49m\u001b[38;5;28;43;01mfor\u001b[39;49;00m\u001b[43m \u001b[49m\u001b[43mrow\u001b[49m\u001b[43m \u001b[49m\u001b[38;5;129;43;01min\u001b[39;49;00m\u001b[43m \u001b[49m\u001b[43mcsv_reader\u001b[49m\u001b[43m:\u001b[49m\n\u001b[0;32m     34\u001b[0m \u001b[43m        \u001b[49m\u001b[43mcsv_writer\u001b[49m\u001b[38;5;241;43m.\u001b[39;49m\u001b[43mwriterow\u001b[49m\u001b[43m(\u001b[49m\u001b[43mrow\u001b[49m\u001b[43m)\u001b[49m\n\u001b[0;32m     36\u001b[0m \u001b[38;5;28mprint\u001b[39m(\u001b[38;5;124mf\u001b[39m\u001b[38;5;124m\"\u001b[39m\u001b[38;5;124mUnzipped and saved as: \u001b[39m\u001b[38;5;132;01m{\u001b[39;00moutput_path\u001b[38;5;132;01m}\u001b[39;00m\u001b[38;5;124m\"\u001b[39m)\n",
      "File \u001b[1;32mC:\\Program Files\\WindowsApps\\PythonSoftwareFoundation.Python.3.11_3.11.2032.0_x64__qbz5n2kfra8p0\\Lib\\encodings\\cp1252.py:23\u001b[0m, in \u001b[0;36mIncrementalDecoder.decode\u001b[1;34m(self, input, final)\u001b[0m\n\u001b[0;32m     22\u001b[0m \u001b[38;5;28;01mdef\u001b[39;00m \u001b[38;5;21mdecode\u001b[39m(\u001b[38;5;28mself\u001b[39m, \u001b[38;5;28minput\u001b[39m, final\u001b[38;5;241m=\u001b[39m\u001b[38;5;28;01mFalse\u001b[39;00m):\n\u001b[1;32m---> 23\u001b[0m     \u001b[38;5;28;01mreturn\u001b[39;00m codecs\u001b[38;5;241m.\u001b[39mcharmap_decode(\u001b[38;5;28minput\u001b[39m,\u001b[38;5;28mself\u001b[39m\u001b[38;5;241m.\u001b[39merrors,decoding_table)[\u001b[38;5;241m0\u001b[39m]\n",
      "\u001b[1;31mUnicodeDecodeError\u001b[0m: 'charmap' codec can't decode byte 0x8f in position 1256: character maps to <undefined>"
     ]
    }
   ],
   "source": [
    "#converter\n",
    "import os\n",
    "import gzip\n",
    "import csv\n",
    "\n",
    "def unzip_csv_gz_folder(input_folder):\n",
    "    # Ensure the folder path ends with a separator\n",
    "    input_folder = os.path.normpath(input_folder) + os.path.sep\n",
    "\n",
    "    # Check if the folder exists\n",
    "    if not os.path.exists(input_folder):\n",
    "        print(f\"The folder path '{input_folder}' does not exist.\")\n",
    "        return\n",
    "\n",
    "    # Iterate over files in the folder\n",
    "    for filename in os.listdir(input_folder):\n",
    "        if filename.endswith('.gz'):\n",
    "            input_path = os.path.join(input_folder, filename)\n",
    "            unzip_csv_gz(input_path)\n",
    "\n",
    "def unzip_csv_gz(input_path):\n",
    "    # Extract the filename without the extension\n",
    "    base_filename, _ = os.path.splitext(input_path)\n",
    "\n",
    "    # Output path for the unzipped CSV file\n",
    "    output_path = f\"{base_filename}\"\n",
    "\n",
    "    with gzip.open(input_path, 'rt') as gz_file, open(output_path, 'w', newline='') as csv_file:\n",
    "        # Create a CSV reader and writer\n",
    "        csv_reader = csv.reader(gz_file)\n",
    "        csv_writer = csv.writer(csv_file)\n",
    "\n",
    "        # Copy data from the compressed file to the CSV file\n",
    "        for row in csv_reader:\n",
    "            csv_writer.writerow(row)\n",
    "\n",
    "    print(f\"Unzipped and saved as: {output_path}\")\n",
    "\n",
    "# Example usage for a folder\n",
    "input_folder_path = os.getcwd()\n",
    "unzip_csv_gz_folder(input_folder_path)\n"
   ]
  },
  {
   "cell_type": "code",
   "execution_count": 10,
   "metadata": {},
   "outputs": [
    {
     "name": "stdout",
     "output_type": "stream",
     "text": [
      "c:\\Users\\nfs25\\OneDrive\\Documents\\GitHub\\Lego-Project\\Re-brick-able\n"
     ]
    }
   ],
   "source": [
    "print(os.getcwd())\n"
   ]
  }
 ],
 "metadata": {
  "kernelspec": {
   "display_name": "Python 3",
   "language": "python",
   "name": "python3"
  },
  "language_info": {
   "codemirror_mode": {
    "name": "ipython",
    "version": 3
   },
   "file_extension": ".py",
   "mimetype": "text/x-python",
   "name": "python",
   "nbconvert_exporter": "python",
   "pygments_lexer": "ipython3",
   "version": "3.11.7"
  }
 },
 "nbformat": 4,
 "nbformat_minor": 2
}
