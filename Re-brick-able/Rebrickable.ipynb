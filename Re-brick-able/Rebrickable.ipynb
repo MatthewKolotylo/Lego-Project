{
 "cells": [
  {
   "cell_type": "markdown",
   "metadata": {},
   "source": [
    "[LEGO Catalog Database Download](https://rebrickable.com/downloads/)"
   ]
  },
  {
   "cell_type": "markdown",
   "metadata": {},
   "source": [
    "![Rebrickable ERD](https://rebrickable.com/static/img/diagrams/downloads_schema_v3.png)"
   ]
  },
  {
   "cell_type": "code",
   "execution_count": 47,
   "metadata": {},
   "outputs": [],
   "source": [
    "import pandas as pd\n",
    "import glob\n",
    "\n",
    "def read_all_csv_files_in_current_folder():\n",
    "    csv_files = [\n",
    "        'colors.csv',\n",
    "        'elements.csv',\n",
    "        'inventories.csv',\n",
    "        'inventory_minifigs.csv',\n",
    "        'inventory_parts.csv',\n",
    "        'inventory_sets.csv',\n",
    "        'minifigs.csv',\n",
    "        'parts.csv',\n",
    "        'part_categories.csv',\n",
    "        'part_relationships.csv',\n",
    "        'sets.csv',\n",
    "        'themes.csv'\n",
    "    ]\n",
    "    \n",
    "    dataframes = {}\n",
    "    \n",
    "    for csv_file in csv_files:\n",
    "        df_name = csv_file[:-4] + '_df'\n",
    "        df = pd.read_csv(csv_file)\n",
    "        dataframes[df_name] = df\n",
    "    \n",
    "    return dataframes\n",
    "\n",
    "# Call the function to read all CSV files into DataFrames\n",
    "result = read_all_csv_files_in_current_folder()\n",
    "\n",
    "# Access individual DataFrames using the modified names\n",
    "colors_df = result['colors_df']\n",
    "elements_df = result['elements_df']\n",
    "inventories_df = result['inventories_df']\n",
    "inventory_minifigs_df = result['inventory_minifigs_df']\n",
    "inventory_parts_df = result['inventory_parts_df']\n",
    "inventory_sets_df = result['inventory_sets_df']\n",
    "minifigs_df = result['minifigs_df']\n",
    "parts_df = result['parts_df']\n",
    "part_categories_df = result['part_categories_df']\n",
    "part_relationships_df = result['part_relationships_df']\n",
    "sets_df = result['sets_df']\n",
    "themes_df = result['themes_df']\n",
    "\n",
    "# Now you can use the individual DataFrames as needed in your code\n"
   ]
  },
  {
   "cell_type": "code",
   "execution_count": 48,
   "metadata": {},
   "outputs": [
    {
     "data": {
      "text/html": [
       "<div>\n",
       "<style scoped>\n",
       "    .dataframe tbody tr th:only-of-type {\n",
       "        vertical-align: middle;\n",
       "    }\n",
       "\n",
       "    .dataframe tbody tr th {\n",
       "        vertical-align: top;\n",
       "    }\n",
       "\n",
       "    .dataframe thead th {\n",
       "        text-align: right;\n",
       "    }\n",
       "</style>\n",
       "<table border=\"1\" class=\"dataframe\">\n",
       "  <thead>\n",
       "    <tr style=\"text-align: right;\">\n",
       "      <th></th>\n",
       "      <th>id</th>\n",
       "      <th>name</th>\n",
       "      <th>rgb</th>\n",
       "      <th>is_trans</th>\n",
       "    </tr>\n",
       "  </thead>\n",
       "  <tbody>\n",
       "    <tr>\n",
       "      <th>0</th>\n",
       "      <td>-1</td>\n",
       "      <td>[Unknown]</td>\n",
       "      <td>0033B2</td>\n",
       "      <td>f</td>\n",
       "    </tr>\n",
       "    <tr>\n",
       "      <th>1</th>\n",
       "      <td>0</td>\n",
       "      <td>Black</td>\n",
       "      <td>05131D</td>\n",
       "      <td>f</td>\n",
       "    </tr>\n",
       "    <tr>\n",
       "      <th>2</th>\n",
       "      <td>1</td>\n",
       "      <td>Blue</td>\n",
       "      <td>0055BF</td>\n",
       "      <td>f</td>\n",
       "    </tr>\n",
       "    <tr>\n",
       "      <th>3</th>\n",
       "      <td>2</td>\n",
       "      <td>Green</td>\n",
       "      <td>237841</td>\n",
       "      <td>f</td>\n",
       "    </tr>\n",
       "    <tr>\n",
       "      <th>4</th>\n",
       "      <td>3</td>\n",
       "      <td>Dark Turquoise</td>\n",
       "      <td>008F9B</td>\n",
       "      <td>f</td>\n",
       "    </tr>\n",
       "  </tbody>\n",
       "</table>\n",
       "</div>"
      ],
      "text/plain": [
       "   id            name     rgb is_trans\n",
       "0  -1       [Unknown]  0033B2        f\n",
       "1   0           Black  05131D        f\n",
       "2   1            Blue  0055BF        f\n",
       "3   2           Green  237841        f\n",
       "4   3  Dark Turquoise  008F9B        f"
      ]
     },
     "execution_count": 48,
     "metadata": {},
     "output_type": "execute_result"
    }
   ],
   "source": [
    "colors_df.head()"
   ]
  }
 ],
 "metadata": {
  "kernelspec": {
   "display_name": "Python 3",
   "language": "python",
   "name": "python3"
  },
  "language_info": {
   "codemirror_mode": {
    "name": "ipython",
    "version": 3
   },
   "file_extension": ".py",
   "mimetype": "text/x-python",
   "name": "python",
   "nbconvert_exporter": "python",
   "pygments_lexer": "ipython3",
   "version": "3.11.7"
  }
 },
 "nbformat": 4,
 "nbformat_minor": 2
}
